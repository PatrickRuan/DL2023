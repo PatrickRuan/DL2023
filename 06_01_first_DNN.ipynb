{
  "nbformat": 4,
  "nbformat_minor": 0,
  "metadata": {
    "colab": {
      "provenance": [],
      "authorship_tag": "ABX9TyPftVlwtNfOsQ0gLzwPLlf+",
      "include_colab_link": true
    },
    "kernelspec": {
      "name": "python3",
      "display_name": "Python 3"
    },
    "language_info": {
      "name": "python"
    },
    "accelerator": "GPU",
    "gpuClass": "standard"
  },
  "cells": [
    {
      "cell_type": "markdown",
      "metadata": {
        "id": "view-in-github",
        "colab_type": "text"
      },
      "source": [
        "<a href=\"https://colab.research.google.com/github/PatrickRuan/DL2023/blob/main/06_01_first_DNN.ipynb\" target=\"_parent\"><img src=\"https://colab.research.google.com/assets/colab-badge.svg\" alt=\"Open In Colab\"/></a>"
      ]
    },
    {
      "cell_type": "code",
      "execution_count": 1,
      "metadata": {
        "colab": {
          "base_uri": "https://localhost:8080/",
          "height": 640
        },
        "id": "3hgZCD-tjerD",
        "outputId": "719f85fa-3ddd-42f5-c8b9-91aaee7b4f18"
      },
      "outputs": [
        {
          "output_type": "stream",
          "name": "stdout",
          "text": [
            "Downloading data from https://storage.googleapis.com/tensorflow/tf-keras-datasets/mnist.npz\n",
            "11490434/11490434 [==============================] - 0s 0us/step\n",
            "剛載入的資料是 (60000, 28, 28)\n",
            "我們來觀察第一張訓練資料照片，放置在輸出最下端\n",
            "第一張照片的標籤資料是 5\n",
            "Epoch 1/5\n",
            "1875/1875 [==============================] - 9s 3ms/step - loss: 0.3593 - accuracy: 0.8998\n",
            "Epoch 2/5\n",
            "1875/1875 [==============================] - 4s 2ms/step - loss: 0.1915 - accuracy: 0.9447\n",
            "Epoch 3/5\n",
            "1875/1875 [==============================] - 4s 2ms/step - loss: 0.1474 - accuracy: 0.9563\n",
            "Epoch 4/5\n",
            "1875/1875 [==============================] - 4s 2ms/step - loss: 0.1246 - accuracy: 0.9637\n",
            "Epoch 5/5\n",
            "1875/1875 [==============================] - 4s 2ms/step - loss: 0.1086 - accuracy: 0.9685\n",
            "313/313 [==============================] - 1s 2ms/step - loss: 0.1216 - accuracy: 0.9632\n",
            "313/313 [==============================] - 1s 2ms/step - loss: 0.1216 - accuracy: 0.9632\n",
            "用測試資料評估模型的表現 [0.12161637842655182, 0.9631999731063843]\n",
            "1/1 [==============================] - 0s 61ms/step\n",
            "用模型推論第一筆資料測試資料 7\n",
            "根據測試資料的標籤，我們可以知道第一筆資料標籤是 7\n"
          ]
        },
        {
          "output_type": "display_data",
          "data": {
            "text/plain": [
              "<Figure size 432x288 with 1 Axes>"
            ],
            "image/png": "[encoded data removed]"
          },
          "metadata": {
            "needs_background": "light"
          }
        }
      ],
      "source": [
        "from tensorflow.keras.models import Sequential\n",
        "from tensorflow.keras.layers import Dense\n",
        "from tensorflow.keras.datasets import mnist\n",
        "import matplotlib.pyplot as plt\n",
        "\n",
        "\n",
        "# 加載 MNIST 資料集\n",
        "(x_train, y_train), (x_test, y_test) = mnist.load_data()\n",
        "\n",
        "print(f'剛載入的資料是 {x_train.shape}')\n",
        "print(f'我們來觀察第一張訓練資料照片，放置在輸出最下端')\n",
        "plt.imshow(x_train[0])\n",
        "print(f'第一張照片的標籤資料是 {y_train[0]}')\n",
        "\n",
        "# 格式化輸入資料\n",
        "x_train = x_train.reshape(x_train.shape[0], 784)\n",
        "x_test = x_test.reshape(x_test.shape[0], 784)\n",
        "x_train = x_train.astype('float32')\n",
        "x_test = x_test.astype('float32')\n",
        "x_train /= 255\n",
        "x_test /= 255\n",
        "\n",
        "# 建立一個 DNN 模型\n",
        "model = Sequential()\n",
        "model.add(Dense(units=32, activation='relu', input_dim=784))\n",
        "model.add(Dense(units=10, activation='softmax'))\n",
        "\n",
        "# 編譯模型\n",
        "model.compile(loss='sparse_categorical_crossentropy',\n",
        "              optimizer='adam',\n",
        "              metrics=['accuracy'])\n",
        "\n",
        "# 訓練模型\n",
        "model.fit(x_train, y_train, epochs=5)\n",
        "\n",
        "# 評估模型\n",
        "loss, accuracy = model.evaluate(x_test, y_test)\n",
        "\n",
        "print(f'用測試資料評估模型的表現 {model.evaluate(x_test, y_test)}')\n",
        "print(f'用模型推論第一筆資料測試資料 {model.predict(x_test[0:1]).argmax()}')\n",
        "print(f'根據測試資料的標籤，我們可以知道第一筆資料標籤是 {y_test[0]}')"
      ]
    }
  ]
}